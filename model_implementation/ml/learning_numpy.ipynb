{
 "cells": [
  {
   "cell_type": "code",
   "execution_count": 12,
   "id": "e4841144-2f0e-4ec6-977c-d2b78143f42f",
   "metadata": {},
   "outputs": [],
   "source": [
    "import numpy as np\n",
    "import sys"
   ]
  },
  {
   "cell_type": "code",
   "execution_count": 16,
   "id": "bba6d0fe-cfe0-4409-8ccd-7e1ebf2ff2d0",
   "metadata": {},
   "outputs": [],
   "source": [
    "a = np.array([1,2],dtype='int16')"
   ]
  },
  {
   "cell_type": "code",
   "execution_count": 8,
   "id": "f4affec0-1761-45f3-b1ae-e79984d702ef",
   "metadata": {},
   "outputs": [
    {
     "data": {
      "text/plain": [
       "1"
      ]
     },
     "execution_count": 8,
     "metadata": {},
     "output_type": "execute_result"
    }
   ],
   "source": [
    "a.ndim"
   ]
  },
  {
   "cell_type": "code",
   "execution_count": 9,
   "id": "9e242a2d-3e32-48c8-a26d-6762df7c5cff",
   "metadata": {},
   "outputs": [
    {
     "data": {
      "text/plain": [
       "(4,)"
      ]
     },
     "execution_count": 9,
     "metadata": {},
     "output_type": "execute_result"
    }
   ],
   "source": [
    "a.shape"
   ]
  },
  {
   "cell_type": "code",
   "execution_count": 10,
   "id": "8c34f85a-1c68-4fa5-a225-f357843523ee",
   "metadata": {},
   "outputs": [
    {
     "data": {
      "text/plain": [
       "dtype('int16')"
      ]
     },
     "execution_count": 10,
     "metadata": {},
     "output_type": "execute_result"
    }
   ],
   "source": [
    "a.dtype"
   ]
  },
  {
   "cell_type": "code",
   "execution_count": 19,
   "id": "4d56c5b9-9a97-4330-95a6-1e3ce60b0940",
   "metadata": {},
   "outputs": [
    {
     "data": {
      "text/plain": [
       "4"
      ]
     },
     "execution_count": 19,
     "metadata": {},
     "output_type": "execute_result"
    }
   ],
   "source": [
    "a.nbytes"
   ]
  },
  {
   "cell_type": "code",
   "execution_count": 24,
   "id": "fa8a3405-91b1-414f-8ef4-85aa5cbaf10f",
   "metadata": {},
   "outputs": [
    {
     "name": "stdout",
     "output_type": "stream",
     "text": [
      "[ 3 33]\n"
     ]
    }
   ],
   "source": [
    "b = np.array([[1,2,3,4,5,6,7,8,9],[11,22,33,44,55,66,77,88,99]])\n",
    "print(b[:,2])"
   ]
  },
  {
   "cell_type": "code",
   "execution_count": 55,
   "id": "0827ebf6-8ddf-4dee-9807-a133359e1f57",
   "metadata": {},
   "outputs": [
    {
     "name": "stdout",
     "output_type": "stream",
     "text": [
      "[[-14  40]\n",
      " [ -8 -37]]\n"
     ]
    }
   ],
   "source": [
    "c = np.random.randint(-50,50,size=(2,2))\n",
    "print(c)"
   ]
  },
  {
   "cell_type": "code",
   "execution_count": 59,
   "id": "d53c8646-9ce3-4e15-aba9-3e8198039e6d",
   "metadata": {},
   "outputs": [
    {
     "data": {
      "text/plain": [
       "array([[1., 1., 1., 1., 1.],\n",
       "       [1., 0., 0., 0., 1.],\n",
       "       [1., 0., 9., 0., 1.],\n",
       "       [1., 0., 0., 0., 1.],\n",
       "       [1., 1., 1., 1., 1.]])"
      ]
     },
     "execution_count": 59,
     "metadata": {},
     "output_type": "execute_result"
    }
   ],
   "source": [
    "ques = np.ones((5,5))\n",
    "ques[1:4,1:4]=0\n",
    "ques[2,2]=9\n",
    "ques"
   ]
  },
  {
   "cell_type": "code",
   "execution_count": 63,
   "id": "122ea03a-72a2-4950-ae39-90497df9919a",
   "metadata": {},
   "outputs": [
    {
     "name": "stdout",
     "output_type": "stream",
     "text": [
      "[[ 1  2  3]\n",
      " [20  5  6]]\n",
      "[[10  2  3]\n",
      " [ 4  5  6]]\n"
     ]
    }
   ],
   "source": [
    "a=np.array([[1,2,3],[4,5,6]])\n",
    "b=a.copy()\n",
    "b[0,0]=10\n",
    "a[1,0]=20\n",
    "print(a)\n",
    "print(b)"
   ]
  }
 ],
 "metadata": {
  "kernelspec": {
   "display_name": "Python 3 (ipykernel)",
   "language": "python",
   "name": "python3"
  },
  "language_info": {
   "codemirror_mode": {
    "name": "ipython",
    "version": 3
   },
   "file_extension": ".py",
   "mimetype": "text/x-python",
   "name": "python",
   "nbconvert_exporter": "python",
   "pygments_lexer": "ipython3",
   "version": "3.12.3"
  }
 },
 "nbformat": 4,
 "nbformat_minor": 5
}
