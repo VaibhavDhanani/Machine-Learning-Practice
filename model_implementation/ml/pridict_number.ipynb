{
 "cells": [
  {
   "cell_type": "code",
   "execution_count": 5,
   "id": "390002b7-1191-4f1c-8e64-a4c373d7f740",
   "metadata": {
    "scrolled": true
   },
   "outputs": [
    {
     "name": "stdout",
     "output_type": "stream",
     "text": [
      "Requirement already satisfied: jupyter_contrib_nbextensions in /home/vaibhav-dhanani/Desktop/LearnPython/mlvenv/lib/python3.12/site-packages (0.7.0)\n",
      "Requirement already satisfied: ipython-genutils in /home/vaibhav-dhanani/Desktop/LearnPython/mlvenv/lib/python3.12/site-packages (from jupyter_contrib_nbextensions) (0.2.0)\n",
      "Requirement already satisfied: jupyter-contrib-core>=0.3.3 in /home/vaibhav-dhanani/Desktop/LearnPython/mlvenv/lib/python3.12/site-packages (from jupyter_contrib_nbextensions) (0.4.2)\n",
      "Requirement already satisfied: jupyter-core in /home/vaibhav-dhanani/Desktop/LearnPython/mlvenv/lib/python3.12/site-packages (from jupyter_contrib_nbextensions) (5.7.2)\n",
      "Requirement already satisfied: jupyter-highlight-selected-word>=0.1.1 in /home/vaibhav-dhanani/Desktop/LearnPython/mlvenv/lib/python3.12/site-packages (from jupyter_contrib_nbextensions) (0.2.0)\n",
      "Requirement already satisfied: jupyter-nbextensions-configurator>=0.4.0 in /home/vaibhav-dhanani/Desktop/LearnPython/mlvenv/lib/python3.12/site-packages (from jupyter_contrib_nbextensions) (0.6.4)\n",
      "Requirement already satisfied: nbconvert>=6.0 in /home/vaibhav-dhanani/Desktop/LearnPython/mlvenv/lib/python3.12/site-packages (from jupyter_contrib_nbextensions) (7.16.4)\n",
      "Requirement already satisfied: notebook>=6.0 in /home/vaibhav-dhanani/Desktop/LearnPython/mlvenv/lib/python3.12/site-packages (from jupyter_contrib_nbextensions) (7.2.2)\n",
      "Requirement already satisfied: tornado in /home/vaibhav-dhanani/Desktop/LearnPython/mlvenv/lib/python3.12/site-packages (from jupyter_contrib_nbextensions) (6.4.1)\n",
      "Requirement already satisfied: traitlets>=4.1 in /home/vaibhav-dhanani/Desktop/LearnPython/mlvenv/lib/python3.12/site-packages (from jupyter_contrib_nbextensions) (5.14.3)\n",
      "Requirement already satisfied: lxml in /home/vaibhav-dhanani/Desktop/LearnPython/mlvenv/lib/python3.12/site-packages (from jupyter_contrib_nbextensions) (5.3.0)\n",
      "Requirement already satisfied: setuptools in /home/vaibhav-dhanani/Desktop/LearnPython/mlvenv/lib/python3.12/site-packages (from jupyter-contrib-core>=0.3.3->jupyter_contrib_nbextensions) (75.3.0)\n",
      "Requirement already satisfied: jupyter-server in /home/vaibhav-dhanani/Desktop/LearnPython/mlvenv/lib/python3.12/site-packages (from jupyter-nbextensions-configurator>=0.4.0->jupyter_contrib_nbextensions) (2.14.2)\n",
      "Requirement already satisfied: pyyaml in /home/vaibhav-dhanani/Desktop/LearnPython/mlvenv/lib/python3.12/site-packages (from jupyter-nbextensions-configurator>=0.4.0->jupyter_contrib_nbextensions) (6.0.2)\n",
      "Requirement already satisfied: beautifulsoup4 in /home/vaibhav-dhanani/Desktop/LearnPython/mlvenv/lib/python3.12/site-packages (from nbconvert>=6.0->jupyter_contrib_nbextensions) (4.12.3)\n",
      "Requirement already satisfied: bleach!=5.0.0 in /home/vaibhav-dhanani/Desktop/LearnPython/mlvenv/lib/python3.12/site-packages (from nbconvert>=6.0->jupyter_contrib_nbextensions) (6.2.0)\n",
      "Requirement already satisfied: defusedxml in /home/vaibhav-dhanani/Desktop/LearnPython/mlvenv/lib/python3.12/site-packages (from nbconvert>=6.0->jupyter_contrib_nbextensions) (0.7.1)\n",
      "Requirement already satisfied: jinja2>=3.0 in /home/vaibhav-dhanani/Desktop/LearnPython/mlvenv/lib/python3.12/site-packages (from nbconvert>=6.0->jupyter_contrib_nbextensions) (3.1.4)\n",
      "Requirement already satisfied: jupyterlab-pygments in /home/vaibhav-dhanani/Desktop/LearnPython/mlvenv/lib/python3.12/site-packages (from nbconvert>=6.0->jupyter_contrib_nbextensions) (0.3.0)\n",
      "Requirement already satisfied: markupsafe>=2.0 in /home/vaibhav-dhanani/Desktop/LearnPython/mlvenv/lib/python3.12/site-packages (from nbconvert>=6.0->jupyter_contrib_nbextensions) (3.0.2)\n",
      "Requirement already satisfied: mistune<4,>=2.0.3 in /home/vaibhav-dhanani/Desktop/LearnPython/mlvenv/lib/python3.12/site-packages (from nbconvert>=6.0->jupyter_contrib_nbextensions) (3.0.2)\n",
      "Requirement already satisfied: nbclient>=0.5.0 in /home/vaibhav-dhanani/Desktop/LearnPython/mlvenv/lib/python3.12/site-packages (from nbconvert>=6.0->jupyter_contrib_nbextensions) (0.10.0)\n",
      "Requirement already satisfied: nbformat>=5.7 in /home/vaibhav-dhanani/Desktop/LearnPython/mlvenv/lib/python3.12/site-packages (from nbconvert>=6.0->jupyter_contrib_nbextensions) (5.10.4)\n",
      "Requirement already satisfied: packaging in /home/vaibhav-dhanani/Desktop/LearnPython/mlvenv/lib/python3.12/site-packages (from nbconvert>=6.0->jupyter_contrib_nbextensions) (24.1)\n",
      "Requirement already satisfied: pandocfilters>=1.4.1 in /home/vaibhav-dhanani/Desktop/LearnPython/mlvenv/lib/python3.12/site-packages (from nbconvert>=6.0->jupyter_contrib_nbextensions) (1.5.1)\n",
      "Requirement already satisfied: pygments>=2.4.1 in /home/vaibhav-dhanani/Desktop/LearnPython/mlvenv/lib/python3.12/site-packages (from nbconvert>=6.0->jupyter_contrib_nbextensions) (2.18.0)\n",
      "Requirement already satisfied: tinycss2 in /home/vaibhav-dhanani/Desktop/LearnPython/mlvenv/lib/python3.12/site-packages (from nbconvert>=6.0->jupyter_contrib_nbextensions) (1.4.0)\n",
      "Requirement already satisfied: platformdirs>=2.5 in /home/vaibhav-dhanani/Desktop/LearnPython/mlvenv/lib/python3.12/site-packages (from jupyter-core->jupyter_contrib_nbextensions) (4.3.6)\n",
      "Requirement already satisfied: jupyterlab-server<3,>=2.27.1 in /home/vaibhav-dhanani/Desktop/LearnPython/mlvenv/lib/python3.12/site-packages (from notebook>=6.0->jupyter_contrib_nbextensions) (2.27.3)\n",
      "Requirement already satisfied: jupyterlab<4.3,>=4.2.0 in /home/vaibhav-dhanani/Desktop/LearnPython/mlvenv/lib/python3.12/site-packages (from notebook>=6.0->jupyter_contrib_nbextensions) (4.2.5)\n",
      "Requirement already satisfied: notebook-shim<0.3,>=0.2 in /home/vaibhav-dhanani/Desktop/LearnPython/mlvenv/lib/python3.12/site-packages (from notebook>=6.0->jupyter_contrib_nbextensions) (0.2.4)\n",
      "Requirement already satisfied: webencodings in /home/vaibhav-dhanani/Desktop/LearnPython/mlvenv/lib/python3.12/site-packages (from bleach!=5.0.0->nbconvert>=6.0->jupyter_contrib_nbextensions) (0.5.1)\n",
      "Requirement already satisfied: anyio>=3.1.0 in /home/vaibhav-dhanani/Desktop/LearnPython/mlvenv/lib/python3.12/site-packages (from jupyter-server->jupyter-nbextensions-configurator>=0.4.0->jupyter_contrib_nbextensions) (4.6.2.post1)\n",
      "Requirement already satisfied: argon2-cffi>=21.1 in /home/vaibhav-dhanani/Desktop/LearnPython/mlvenv/lib/python3.12/site-packages (from jupyter-server->jupyter-nbextensions-configurator>=0.4.0->jupyter_contrib_nbextensions) (23.1.0)\n",
      "Requirement already satisfied: jupyter-client>=7.4.4 in /home/vaibhav-dhanani/Desktop/LearnPython/mlvenv/lib/python3.12/site-packages (from jupyter-server->jupyter-nbextensions-configurator>=0.4.0->jupyter_contrib_nbextensions) (8.6.3)\n",
      "Requirement already satisfied: jupyter-events>=0.9.0 in /home/vaibhav-dhanani/Desktop/LearnPython/mlvenv/lib/python3.12/site-packages (from jupyter-server->jupyter-nbextensions-configurator>=0.4.0->jupyter_contrib_nbextensions) (0.10.0)\n",
      "Requirement already satisfied: jupyter-server-terminals>=0.4.4 in /home/vaibhav-dhanani/Desktop/LearnPython/mlvenv/lib/python3.12/site-packages (from jupyter-server->jupyter-nbextensions-configurator>=0.4.0->jupyter_contrib_nbextensions) (0.5.3)\n",
      "Requirement already satisfied: overrides>=5.0 in /home/vaibhav-dhanani/Desktop/LearnPython/mlvenv/lib/python3.12/site-packages (from jupyter-server->jupyter-nbextensions-configurator>=0.4.0->jupyter_contrib_nbextensions) (7.7.0)\n",
      "Requirement already satisfied: prometheus-client>=0.9 in /home/vaibhav-dhanani/Desktop/LearnPython/mlvenv/lib/python3.12/site-packages (from jupyter-server->jupyter-nbextensions-configurator>=0.4.0->jupyter_contrib_nbextensions) (0.21.0)\n",
      "Requirement already satisfied: pyzmq>=24 in /home/vaibhav-dhanani/Desktop/LearnPython/mlvenv/lib/python3.12/site-packages (from jupyter-server->jupyter-nbextensions-configurator>=0.4.0->jupyter_contrib_nbextensions) (26.2.0)\n",
      "Requirement already satisfied: send2trash>=1.8.2 in /home/vaibhav-dhanani/Desktop/LearnPython/mlvenv/lib/python3.12/site-packages (from jupyter-server->jupyter-nbextensions-configurator>=0.4.0->jupyter_contrib_nbextensions) (1.8.3)\n",
      "Requirement already satisfied: terminado>=0.8.3 in /home/vaibhav-dhanani/Desktop/LearnPython/mlvenv/lib/python3.12/site-packages (from jupyter-server->jupyter-nbextensions-configurator>=0.4.0->jupyter_contrib_nbextensions) (0.18.1)\n",
      "Requirement already satisfied: websocket-client>=1.7 in /home/vaibhav-dhanani/Desktop/LearnPython/mlvenv/lib/python3.12/site-packages (from jupyter-server->jupyter-nbextensions-configurator>=0.4.0->jupyter_contrib_nbextensions) (1.8.0)\n",
      "Requirement already satisfied: async-lru>=1.0.0 in /home/vaibhav-dhanani/Desktop/LearnPython/mlvenv/lib/python3.12/site-packages (from jupyterlab<4.3,>=4.2.0->notebook>=6.0->jupyter_contrib_nbextensions) (2.0.4)\n",
      "Requirement already satisfied: httpx>=0.25.0 in /home/vaibhav-dhanani/Desktop/LearnPython/mlvenv/lib/python3.12/site-packages (from jupyterlab<4.3,>=4.2.0->notebook>=6.0->jupyter_contrib_nbextensions) (0.27.2)\n",
      "Requirement already satisfied: ipykernel>=6.5.0 in /home/vaibhav-dhanani/Desktop/LearnPython/mlvenv/lib/python3.12/site-packages (from jupyterlab<4.3,>=4.2.0->notebook>=6.0->jupyter_contrib_nbextensions) (6.29.5)\n",
      "Requirement already satisfied: jupyter-lsp>=2.0.0 in /home/vaibhav-dhanani/Desktop/LearnPython/mlvenv/lib/python3.12/site-packages (from jupyterlab<4.3,>=4.2.0->notebook>=6.0->jupyter_contrib_nbextensions) (2.2.5)\n",
      "Requirement already satisfied: babel>=2.10 in /home/vaibhav-dhanani/Desktop/LearnPython/mlvenv/lib/python3.12/site-packages (from jupyterlab-server<3,>=2.27.1->notebook>=6.0->jupyter_contrib_nbextensions) (2.16.0)\n",
      "Requirement already satisfied: json5>=0.9.0 in /home/vaibhav-dhanani/Desktop/LearnPython/mlvenv/lib/python3.12/site-packages (from jupyterlab-server<3,>=2.27.1->notebook>=6.0->jupyter_contrib_nbextensions) (0.9.25)\n",
      "Requirement already satisfied: jsonschema>=4.18.0 in /home/vaibhav-dhanani/Desktop/LearnPython/mlvenv/lib/python3.12/site-packages (from jupyterlab-server<3,>=2.27.1->notebook>=6.0->jupyter_contrib_nbextensions) (4.23.0)\n",
      "Requirement already satisfied: requests>=2.31 in /home/vaibhav-dhanani/Desktop/LearnPython/mlvenv/lib/python3.12/site-packages (from jupyterlab-server<3,>=2.27.1->notebook>=6.0->jupyter_contrib_nbextensions) (2.32.3)\n",
      "Requirement already satisfied: fastjsonschema>=2.15 in /home/vaibhav-dhanani/Desktop/LearnPython/mlvenv/lib/python3.12/site-packages (from nbformat>=5.7->nbconvert>=6.0->jupyter_contrib_nbextensions) (2.20.0)\n",
      "Requirement already satisfied: soupsieve>1.2 in /home/vaibhav-dhanani/Desktop/LearnPython/mlvenv/lib/python3.12/site-packages (from beautifulsoup4->nbconvert>=6.0->jupyter_contrib_nbextensions) (2.6)\n",
      "Requirement already satisfied: idna>=2.8 in /home/vaibhav-dhanani/Desktop/LearnPython/mlvenv/lib/python3.12/site-packages (from anyio>=3.1.0->jupyter-server->jupyter-nbextensions-configurator>=0.4.0->jupyter_contrib_nbextensions) (3.10)\n",
      "Requirement already satisfied: sniffio>=1.1 in /home/vaibhav-dhanani/Desktop/LearnPython/mlvenv/lib/python3.12/site-packages (from anyio>=3.1.0->jupyter-server->jupyter-nbextensions-configurator>=0.4.0->jupyter_contrib_nbextensions) (1.3.1)\n",
      "Requirement already satisfied: argon2-cffi-bindings in /home/vaibhav-dhanani/Desktop/LearnPython/mlvenv/lib/python3.12/site-packages (from argon2-cffi>=21.1->jupyter-server->jupyter-nbextensions-configurator>=0.4.0->jupyter_contrib_nbextensions) (21.2.0)\n",
      "Requirement already satisfied: certifi in /home/vaibhav-dhanani/Desktop/LearnPython/mlvenv/lib/python3.12/site-packages (from httpx>=0.25.0->jupyterlab<4.3,>=4.2.0->notebook>=6.0->jupyter_contrib_nbextensions) (2024.8.30)\n",
      "Requirement already satisfied: httpcore==1.* in /home/vaibhav-dhanani/Desktop/LearnPython/mlvenv/lib/python3.12/site-packages (from httpx>=0.25.0->jupyterlab<4.3,>=4.2.0->notebook>=6.0->jupyter_contrib_nbextensions) (1.0.6)\n",
      "Requirement already satisfied: h11<0.15,>=0.13 in /home/vaibhav-dhanani/Desktop/LearnPython/mlvenv/lib/python3.12/site-packages (from httpcore==1.*->httpx>=0.25.0->jupyterlab<4.3,>=4.2.0->notebook>=6.0->jupyter_contrib_nbextensions) (0.14.0)\n",
      "Requirement already satisfied: comm>=0.1.1 in /home/vaibhav-dhanani/Desktop/LearnPython/mlvenv/lib/python3.12/site-packages (from ipykernel>=6.5.0->jupyterlab<4.3,>=4.2.0->notebook>=6.0->jupyter_contrib_nbextensions) (0.2.2)\n",
      "Requirement already satisfied: debugpy>=1.6.5 in /home/vaibhav-dhanani/Desktop/LearnPython/mlvenv/lib/python3.12/site-packages (from ipykernel>=6.5.0->jupyterlab<4.3,>=4.2.0->notebook>=6.0->jupyter_contrib_nbextensions) (1.8.8)\n",
      "Requirement already satisfied: ipython>=7.23.1 in /home/vaibhav-dhanani/Desktop/LearnPython/mlvenv/lib/python3.12/site-packages (from ipykernel>=6.5.0->jupyterlab<4.3,>=4.2.0->notebook>=6.0->jupyter_contrib_nbextensions) (8.29.0)\n",
      "Requirement already satisfied: matplotlib-inline>=0.1 in /home/vaibhav-dhanani/Desktop/LearnPython/mlvenv/lib/python3.12/site-packages (from ipykernel>=6.5.0->jupyterlab<4.3,>=4.2.0->notebook>=6.0->jupyter_contrib_nbextensions) (0.1.7)\n",
      "Requirement already satisfied: nest-asyncio in /home/vaibhav-dhanani/Desktop/LearnPython/mlvenv/lib/python3.12/site-packages (from ipykernel>=6.5.0->jupyterlab<4.3,>=4.2.0->notebook>=6.0->jupyter_contrib_nbextensions) (1.6.0)\n",
      "Requirement already satisfied: psutil in /home/vaibhav-dhanani/Desktop/LearnPython/mlvenv/lib/python3.12/site-packages (from ipykernel>=6.5.0->jupyterlab<4.3,>=4.2.0->notebook>=6.0->jupyter_contrib_nbextensions) (6.1.0)\n",
      "Requirement already satisfied: attrs>=22.2.0 in /home/vaibhav-dhanani/Desktop/LearnPython/mlvenv/lib/python3.12/site-packages (from jsonschema>=4.18.0->jupyterlab-server<3,>=2.27.1->notebook>=6.0->jupyter_contrib_nbextensions) (24.2.0)\n",
      "Requirement already satisfied: jsonschema-specifications>=2023.03.6 in /home/vaibhav-dhanani/Desktop/LearnPython/mlvenv/lib/python3.12/site-packages (from jsonschema>=4.18.0->jupyterlab-server<3,>=2.27.1->notebook>=6.0->jupyter_contrib_nbextensions) (2024.10.1)\n",
      "Requirement already satisfied: referencing>=0.28.4 in /home/vaibhav-dhanani/Desktop/LearnPython/mlvenv/lib/python3.12/site-packages (from jsonschema>=4.18.0->jupyterlab-server<3,>=2.27.1->notebook>=6.0->jupyter_contrib_nbextensions) (0.35.1)\n",
      "Requirement already satisfied: rpds-py>=0.7.1 in /home/vaibhav-dhanani/Desktop/LearnPython/mlvenv/lib/python3.12/site-packages (from jsonschema>=4.18.0->jupyterlab-server<3,>=2.27.1->notebook>=6.0->jupyter_contrib_nbextensions) (0.21.0)\n",
      "Requirement already satisfied: python-dateutil>=2.8.2 in /home/vaibhav-dhanani/Desktop/LearnPython/mlvenv/lib/python3.12/site-packages (from jupyter-client>=7.4.4->jupyter-server->jupyter-nbextensions-configurator>=0.4.0->jupyter_contrib_nbextensions) (2.9.0.post0)\n",
      "Requirement already satisfied: python-json-logger>=2.0.4 in /home/vaibhav-dhanani/Desktop/LearnPython/mlvenv/lib/python3.12/site-packages (from jupyter-events>=0.9.0->jupyter-server->jupyter-nbextensions-configurator>=0.4.0->jupyter_contrib_nbextensions) (2.0.7)\n",
      "Requirement already satisfied: rfc3339-validator in /home/vaibhav-dhanani/Desktop/LearnPython/mlvenv/lib/python3.12/site-packages (from jupyter-events>=0.9.0->jupyter-server->jupyter-nbextensions-configurator>=0.4.0->jupyter_contrib_nbextensions) (0.1.4)\n",
      "Requirement already satisfied: rfc3986-validator>=0.1.1 in /home/vaibhav-dhanani/Desktop/LearnPython/mlvenv/lib/python3.12/site-packages (from jupyter-events>=0.9.0->jupyter-server->jupyter-nbextensions-configurator>=0.4.0->jupyter_contrib_nbextensions) (0.1.1)\n",
      "Requirement already satisfied: charset-normalizer<4,>=2 in /home/vaibhav-dhanani/Desktop/LearnPython/mlvenv/lib/python3.12/site-packages (from requests>=2.31->jupyterlab-server<3,>=2.27.1->notebook>=6.0->jupyter_contrib_nbextensions) (3.4.0)\n",
      "Requirement already satisfied: urllib3<3,>=1.21.1 in /home/vaibhav-dhanani/Desktop/LearnPython/mlvenv/lib/python3.12/site-packages (from requests>=2.31->jupyterlab-server<3,>=2.27.1->notebook>=6.0->jupyter_contrib_nbextensions) (2.2.3)\n",
      "Requirement already satisfied: ptyprocess in /home/vaibhav-dhanani/Desktop/LearnPython/mlvenv/lib/python3.12/site-packages (from terminado>=0.8.3->jupyter-server->jupyter-nbextensions-configurator>=0.4.0->jupyter_contrib_nbextensions) (0.7.0)\n",
      "Requirement already satisfied: decorator in /home/vaibhav-dhanani/Desktop/LearnPython/mlvenv/lib/python3.12/site-packages (from ipython>=7.23.1->ipykernel>=6.5.0->jupyterlab<4.3,>=4.2.0->notebook>=6.0->jupyter_contrib_nbextensions) (5.1.1)\n",
      "Requirement already satisfied: jedi>=0.16 in /home/vaibhav-dhanani/Desktop/LearnPython/mlvenv/lib/python3.12/site-packages (from ipython>=7.23.1->ipykernel>=6.5.0->jupyterlab<4.3,>=4.2.0->notebook>=6.0->jupyter_contrib_nbextensions) (0.19.1)\n",
      "Requirement already satisfied: prompt-toolkit<3.1.0,>=3.0.41 in /home/vaibhav-dhanani/Desktop/LearnPython/mlvenv/lib/python3.12/site-packages (from ipython>=7.23.1->ipykernel>=6.5.0->jupyterlab<4.3,>=4.2.0->notebook>=6.0->jupyter_contrib_nbextensions) (3.0.48)\n",
      "Requirement already satisfied: stack-data in /home/vaibhav-dhanani/Desktop/LearnPython/mlvenv/lib/python3.12/site-packages (from ipython>=7.23.1->ipykernel>=6.5.0->jupyterlab<4.3,>=4.2.0->notebook>=6.0->jupyter_contrib_nbextensions) (0.6.3)\n",
      "Requirement already satisfied: pexpect>4.3 in /home/vaibhav-dhanani/Desktop/LearnPython/mlvenv/lib/python3.12/site-packages (from ipython>=7.23.1->ipykernel>=6.5.0->jupyterlab<4.3,>=4.2.0->notebook>=6.0->jupyter_contrib_nbextensions) (4.9.0)\n",
      "Requirement already satisfied: fqdn in /home/vaibhav-dhanani/Desktop/LearnPython/mlvenv/lib/python3.12/site-packages (from jsonschema[format-nongpl]>=4.18.0->jupyter-events>=0.9.0->jupyter-server->jupyter-nbextensions-configurator>=0.4.0->jupyter_contrib_nbextensions) (1.5.1)\n",
      "Requirement already satisfied: isoduration in /home/vaibhav-dhanani/Desktop/LearnPython/mlvenv/lib/python3.12/site-packages (from jsonschema[format-nongpl]>=4.18.0->jupyter-events>=0.9.0->jupyter-server->jupyter-nbextensions-configurator>=0.4.0->jupyter_contrib_nbextensions) (20.11.0)\n",
      "Requirement already satisfied: jsonpointer>1.13 in /home/vaibhav-dhanani/Desktop/LearnPython/mlvenv/lib/python3.12/site-packages (from jsonschema[format-nongpl]>=4.18.0->jupyter-events>=0.9.0->jupyter-server->jupyter-nbextensions-configurator>=0.4.0->jupyter_contrib_nbextensions) (3.0.0)\n",
      "Requirement already satisfied: uri-template in /home/vaibhav-dhanani/Desktop/LearnPython/mlvenv/lib/python3.12/site-packages (from jsonschema[format-nongpl]>=4.18.0->jupyter-events>=0.9.0->jupyter-server->jupyter-nbextensions-configurator>=0.4.0->jupyter_contrib_nbextensions) (1.3.0)\n",
      "Requirement already satisfied: webcolors>=24.6.0 in /home/vaibhav-dhanani/Desktop/LearnPython/mlvenv/lib/python3.12/site-packages (from jsonschema[format-nongpl]>=4.18.0->jupyter-events>=0.9.0->jupyter-server->jupyter-nbextensions-configurator>=0.4.0->jupyter_contrib_nbextensions) (24.8.0)\n",
      "Requirement already satisfied: six>=1.5 in /home/vaibhav-dhanani/Desktop/LearnPython/mlvenv/lib/python3.12/site-packages (from python-dateutil>=2.8.2->jupyter-client>=7.4.4->jupyter-server->jupyter-nbextensions-configurator>=0.4.0->jupyter_contrib_nbextensions) (1.16.0)\n",
      "Requirement already satisfied: cffi>=1.0.1 in /home/vaibhav-dhanani/Desktop/LearnPython/mlvenv/lib/python3.12/site-packages (from argon2-cffi-bindings->argon2-cffi>=21.1->jupyter-server->jupyter-nbextensions-configurator>=0.4.0->jupyter_contrib_nbextensions) (1.17.1)\n",
      "Requirement already satisfied: pycparser in /home/vaibhav-dhanani/Desktop/LearnPython/mlvenv/lib/python3.12/site-packages (from cffi>=1.0.1->argon2-cffi-bindings->argon2-cffi>=21.1->jupyter-server->jupyter-nbextensions-configurator>=0.4.0->jupyter_contrib_nbextensions) (2.22)\n",
      "Requirement already satisfied: parso<0.9.0,>=0.8.3 in /home/vaibhav-dhanani/Desktop/LearnPython/mlvenv/lib/python3.12/site-packages (from jedi>=0.16->ipython>=7.23.1->ipykernel>=6.5.0->jupyterlab<4.3,>=4.2.0->notebook>=6.0->jupyter_contrib_nbextensions) (0.8.4)\n",
      "Requirement already satisfied: wcwidth in /home/vaibhav-dhanani/Desktop/LearnPython/mlvenv/lib/python3.12/site-packages (from prompt-toolkit<3.1.0,>=3.0.41->ipython>=7.23.1->ipykernel>=6.5.0->jupyterlab<4.3,>=4.2.0->notebook>=6.0->jupyter_contrib_nbextensions) (0.2.13)\n",
      "Requirement already satisfied: arrow>=0.15.0 in /home/vaibhav-dhanani/Desktop/LearnPython/mlvenv/lib/python3.12/site-packages (from isoduration->jsonschema[format-nongpl]>=4.18.0->jupyter-events>=0.9.0->jupyter-server->jupyter-nbextensions-configurator>=0.4.0->jupyter_contrib_nbextensions) (1.3.0)\n",
      "Requirement already satisfied: executing>=1.2.0 in /home/vaibhav-dhanani/Desktop/LearnPython/mlvenv/lib/python3.12/site-packages (from stack-data->ipython>=7.23.1->ipykernel>=6.5.0->jupyterlab<4.3,>=4.2.0->notebook>=6.0->jupyter_contrib_nbextensions) (2.1.0)\n",
      "Requirement already satisfied: asttokens>=2.1.0 in /home/vaibhav-dhanani/Desktop/LearnPython/mlvenv/lib/python3.12/site-packages (from stack-data->ipython>=7.23.1->ipykernel>=6.5.0->jupyterlab<4.3,>=4.2.0->notebook>=6.0->jupyter_contrib_nbextensions) (2.4.1)\n",
      "Requirement already satisfied: pure-eval in /home/vaibhav-dhanani/Desktop/LearnPython/mlvenv/lib/python3.12/site-packages (from stack-data->ipython>=7.23.1->ipykernel>=6.5.0->jupyterlab<4.3,>=4.2.0->notebook>=6.0->jupyter_contrib_nbextensions) (0.2.3)\n",
      "Requirement already satisfied: types-python-dateutil>=2.8.10 in /home/vaibhav-dhanani/Desktop/LearnPython/mlvenv/lib/python3.12/site-packages (from arrow>=0.15.0->isoduration->jsonschema[format-nongpl]>=4.18.0->jupyter-events>=0.9.0->jupyter-server->jupyter-nbextensions-configurator>=0.4.0->jupyter_contrib_nbextensions) (2.9.0.20241003)\n",
      "Traceback (most recent call last):\n",
      "  File \"/home/vaibhav-dhanani/Desktop/LearnPython/mlvenv/lib/python3.12/site-packages/jupyter_contrib_core/notebook_compat/nbextensions.py\", line 6, in <module>\n",
      "    from notebook.extensions import BaseExtensionApp\n",
      "ModuleNotFoundError: No module named 'notebook.extensions'\n",
      "\n",
      "During handling of the above exception, another exception occurred:\n",
      "\n",
      "Traceback (most recent call last):\n",
      "  File \"/home/vaibhav-dhanani/Desktop/LearnPython/mlvenv/lib/python3.12/site-packages/jupyter_contrib_core/notebook_compat/nbextensions.py\", line 10, in <module>\n",
      "    from notebook.nbextensions import BaseNBExtensionApp\n",
      "ModuleNotFoundError: No module named 'notebook.nbextensions'\n",
      "\n",
      "During handling of the above exception, another exception occurred:\n",
      "\n",
      "Traceback (most recent call last):\n",
      "  File \"/home/vaibhav-dhanani/Desktop/LearnPython/mlvenv/bin/jupyter-contrib\", line 8, in <module>\n",
      "    sys.exit(main())\n",
      "             ^^^^^^\n",
      "  File \"/home/vaibhav-dhanani/Desktop/LearnPython/mlvenv/lib/python3.12/site-packages/jupyter_core/application.py\", line 283, in launch_instance\n",
      "    super().launch_instance(argv=argv, **kwargs)\n",
      "  File \"/home/vaibhav-dhanani/Desktop/LearnPython/mlvenv/lib/python3.12/site-packages/traitlets/config/application.py\", line 1073, in launch_instance\n",
      "    app = cls.instance(**kwargs)\n",
      "          ^^^^^^^^^^^^^^^^^^^^^^\n",
      "  File \"/home/vaibhav-dhanani/Desktop/LearnPython/mlvenv/lib/python3.12/site-packages/traitlets/config/configurable.py\", line 583, in instance\n",
      "    inst = cls(*args, **kwargs)\n",
      "           ^^^^^^^^^^^^^^^^^^^^\n",
      "  File \"/home/vaibhav-dhanani/Desktop/LearnPython/mlvenv/lib/python3.12/site-packages/jupyter_contrib_core/application.py\", line 27, in __init__\n",
      "    self._refresh_subcommands()\n",
      "  File \"/home/vaibhav-dhanani/Desktop/LearnPython/mlvenv/lib/python3.12/site-packages/jupyter_contrib_core/application.py\", line 43, in _refresh_subcommands\n",
      "    get_subcommands_dict = entrypoint.load()\n",
      "                           ^^^^^^^^^^^^^^^^^\n",
      "  File \"/home/vaibhav-dhanani/Desktop/LearnPython/mlvenv/lib/python3.12/site-packages/pkg_resources/__init__.py\", line 2781, in load\n",
      "    return self.resolve()\n",
      "           ^^^^^^^^^^^^^^\n",
      "  File \"/home/vaibhav-dhanani/Desktop/LearnPython/mlvenv/lib/python3.12/site-packages/pkg_resources/__init__.py\", line 2787, in resolve\n",
      "    module = __import__(self.module_name, fromlist=['__name__'], level=0)\n",
      "             ^^^^^^^^^^^^^^^^^^^^^^^^^^^^^^^^^^^^^^^^^^^^^^^^^^^^^^^^^^^^\n",
      "  File \"/home/vaibhav-dhanani/Desktop/LearnPython/mlvenv/lib/python3.12/site-packages/jupyter_contrib_nbextensions/application.py\", line 7, in <module>\n",
      "    from jupyter_contrib_core.notebook_compat.nbextensions import ArgumentConflict\n",
      "  File \"/home/vaibhav-dhanani/Desktop/LearnPython/mlvenv/lib/python3.12/site-packages/jupyter_contrib_core/notebook_compat/nbextensions.py\", line 12, in <module>\n",
      "    from ._compat.nbextensions import BaseNBExtensionApp\n",
      "  File \"/home/vaibhav-dhanani/Desktop/LearnPython/mlvenv/lib/python3.12/site-packages/jupyter_contrib_core/notebook_compat/_compat/nbextensions.py\", line 35, in <module>\n",
      "    from notebook.nbextensions import (\n",
      "ModuleNotFoundError: No module named 'notebook.nbextensions'\n",
      "Requirement already satisfied: autopep8 in /home/vaibhav-dhanani/Desktop/LearnPython/mlvenv/lib/python3.12/site-packages (2.3.1)\n",
      "Requirement already satisfied: pycodestyle>=2.12.0 in /home/vaibhav-dhanani/Desktop/LearnPython/mlvenv/lib/python3.12/site-packages (from autopep8) (2.12.1)\n",
      "Requirement already satisfied: tqdm in /home/vaibhav-dhanani/Desktop/LearnPython/mlvenv/lib/python3.12/site-packages (4.67.0)\n",
      "Requirement already satisfied: ipywidgets in /home/vaibhav-dhanani/Desktop/LearnPython/mlvenv/lib/python3.12/site-packages (8.1.5)\n",
      "Requirement already satisfied: comm>=0.1.3 in /home/vaibhav-dhanani/Desktop/LearnPython/mlvenv/lib/python3.12/site-packages (from ipywidgets) (0.2.2)\n",
      "Requirement already satisfied: ipython>=6.1.0 in /home/vaibhav-dhanani/Desktop/LearnPython/mlvenv/lib/python3.12/site-packages (from ipywidgets) (8.29.0)\n",
      "Requirement already satisfied: traitlets>=4.3.1 in /home/vaibhav-dhanani/Desktop/LearnPython/mlvenv/lib/python3.12/site-packages (from ipywidgets) (5.14.3)\n",
      "Requirement already satisfied: widgetsnbextension~=4.0.12 in /home/vaibhav-dhanani/Desktop/LearnPython/mlvenv/lib/python3.12/site-packages (from ipywidgets) (4.0.13)\n",
      "Requirement already satisfied: jupyterlab-widgets~=3.0.12 in /home/vaibhav-dhanani/Desktop/LearnPython/mlvenv/lib/python3.12/site-packages (from ipywidgets) (3.0.13)\n",
      "Requirement already satisfied: decorator in /home/vaibhav-dhanani/Desktop/LearnPython/mlvenv/lib/python3.12/site-packages (from ipython>=6.1.0->ipywidgets) (5.1.1)\n",
      "Requirement already satisfied: jedi>=0.16 in /home/vaibhav-dhanani/Desktop/LearnPython/mlvenv/lib/python3.12/site-packages (from ipython>=6.1.0->ipywidgets) (0.19.1)\n",
      "Requirement already satisfied: matplotlib-inline in /home/vaibhav-dhanani/Desktop/LearnPython/mlvenv/lib/python3.12/site-packages (from ipython>=6.1.0->ipywidgets) (0.1.7)\n",
      "Requirement already satisfied: prompt-toolkit<3.1.0,>=3.0.41 in /home/vaibhav-dhanani/Desktop/LearnPython/mlvenv/lib/python3.12/site-packages (from ipython>=6.1.0->ipywidgets) (3.0.48)\n",
      "Requirement already satisfied: pygments>=2.4.0 in /home/vaibhav-dhanani/Desktop/LearnPython/mlvenv/lib/python3.12/site-packages (from ipython>=6.1.0->ipywidgets) (2.18.0)\n",
      "Requirement already satisfied: stack-data in /home/vaibhav-dhanani/Desktop/LearnPython/mlvenv/lib/python3.12/site-packages (from ipython>=6.1.0->ipywidgets) (0.6.3)\n",
      "Requirement already satisfied: pexpect>4.3 in /home/vaibhav-dhanani/Desktop/LearnPython/mlvenv/lib/python3.12/site-packages (from ipython>=6.1.0->ipywidgets) (4.9.0)\n",
      "Requirement already satisfied: parso<0.9.0,>=0.8.3 in /home/vaibhav-dhanani/Desktop/LearnPython/mlvenv/lib/python3.12/site-packages (from jedi>=0.16->ipython>=6.1.0->ipywidgets) (0.8.4)\n",
      "Requirement already satisfied: ptyprocess>=0.5 in /home/vaibhav-dhanani/Desktop/LearnPython/mlvenv/lib/python3.12/site-packages (from pexpect>4.3->ipython>=6.1.0->ipywidgets) (0.7.0)\n",
      "Requirement already satisfied: wcwidth in /home/vaibhav-dhanani/Desktop/LearnPython/mlvenv/lib/python3.12/site-packages (from prompt-toolkit<3.1.0,>=3.0.41->ipython>=6.1.0->ipywidgets) (0.2.13)\n",
      "Requirement already satisfied: executing>=1.2.0 in /home/vaibhav-dhanani/Desktop/LearnPython/mlvenv/lib/python3.12/site-packages (from stack-data->ipython>=6.1.0->ipywidgets) (2.1.0)\n",
      "Requirement already satisfied: asttokens>=2.1.0 in /home/vaibhav-dhanani/Desktop/LearnPython/mlvenv/lib/python3.12/site-packages (from stack-data->ipython>=6.1.0->ipywidgets) (2.4.1)\n",
      "Requirement already satisfied: pure-eval in /home/vaibhav-dhanani/Desktop/LearnPython/mlvenv/lib/python3.12/site-packages (from stack-data->ipython>=6.1.0->ipywidgets) (0.2.3)\n",
      "Requirement already satisfied: six>=1.12.0 in /home/vaibhav-dhanani/Desktop/LearnPython/mlvenv/lib/python3.12/site-packages (from asttokens>=2.1.0->stack-data->ipython>=6.1.0->ipywidgets) (1.16.0)\n"
     ]
    },
    {
     "name": "stderr",
     "output_type": "stream",
     "text": [
      "UsageError: Line magic function `%%time` not found.\n"
     ]
    }
   ],
   "source": [
    "!pip install jupyter_contrib_nbextensions\n",
    "!jupyter contrib nbextension install --user\n",
    "!pip install autopep8\n",
    "!pip install tqdm\n",
    "!pip install ipywidgets\n",
    "\n",
    "# Auto-reload modules\n",
    "%load_ext autoreload\n",
    "%autoreload 2\n",
    "\n",
    "# Show plots inline\n",
    "%matplotlib inline\n",
    "\n",
    "# Time execution of cells\n",
    "%%time\n",
    "\n",
    "# Memory usage\n",
    "%pip install memory_profiler\n",
    "%load_ext memory_profiler"
   ]
  },
  {
   "cell_type": "code",
   "execution_count": 3,
   "id": "f9f4c387-1922-472f-84e1-8784ab96cfd2",
   "metadata": {},
   "outputs": [],
   "source": [
    "import tensorflow as tf\n",
    "from tensorflow import keras\n",
    "import matplotlib.pyplot as plt\n",
    "%matplotlib inline\n",
    "import numpy as np"
   ]
  },
  {
   "cell_type": "code",
   "execution_count": 6,
   "id": "7c88b5de-c6a4-40c3-bf22-ee28f86a09db",
   "metadata": {},
   "outputs": [
    {
     "name": "stdout",
     "output_type": "stream",
     "text": [
      "Downloading data from https://storage.googleapis.com/tensorflow/tf-keras-datasets/mnist.npz\n",
      "\u001b[1m11490434/11490434\u001b[0m \u001b[32m━━━━━━━━━━━━━━━━━━━━\u001b[0m\u001b[37m\u001b[0m \u001b[1m4s\u001b[0m 0us/step\n"
     ]
    }
   ],
   "source": [
    "(X_train,Y_train),(X_test,Y_test) = keras.datasets.mnist.load_data()"
   ]
  },
  {
   "cell_type": "code",
   "execution_count": 7,
   "id": "e0f3d2d5-6412-4b50-b162-9e951676bb44",
   "metadata": {},
   "outputs": [
    {
     "data": {
      "text/plain": [
       "60000"
      ]
     },
     "execution_count": 7,
     "metadata": {},
     "output_type": "execute_result"
    }
   ],
   "source": [
    "len(X_train)"
   ]
  },
  {
   "cell_type": "code",
   "execution_count": 22,
   "id": "21a8c2e9-5cb1-49b5-9307-454b1c97fc5e",
   "metadata": {},
   "outputs": [],
   "source": [
    "X_train = X_train / 255\n",
    "X_test = X_test / 255"
   ]
  },
  {
   "cell_type": "code",
   "execution_count": 15,
   "id": "fcfe1d56-4001-46b1-9d21-b6dadd36d7b3",
   "metadata": {},
   "outputs": [
    {
     "data": {
      "text/plain": [
       "(10000, 28, 28)"
      ]
     },
     "execution_count": 15,
     "metadata": {},
     "output_type": "execute_result"
    },
    {
     "data": {
      "image/png": "[encoded data removed]",
      "text/plain": [
       "<Figure size 480x480 with 1 Axes>"
      ]
     },
     "metadata": {},
     "output_type": "display_data"
    }
   ],
   "source": [
    "plt.matshow(X_train[20])\n",
    "X_train.shape\n",
    "X_test.shape"
   ]
  },
  {
   "cell_type": "code",
   "execution_count": 23,
   "id": "d3d9f052-2942-4bc2-9f57-718220e7b46a",
   "metadata": {},
   "outputs": [
    {
     "data": {
      "text/plain": [
       "(10000, 784)"
      ]
     },
     "execution_count": 23,
     "metadata": {},
     "output_type": "execute_result"
    }
   ],
   "source": [
    "X_train_flat = X_train.reshape(len(X_train),28*28)\n",
    "X_test_flat = X_test.reshape(len(X_test),28*28)\n",
    "X_train_flat.shape\n",
    "X_test_flat.shape"
   ]
  },
  {
   "cell_type": "code",
   "execution_count": 24,
   "id": "f177668c-54a6-4caa-b919-df0d3d440201",
   "metadata": {},
   "outputs": [
    {
     "name": "stdout",
     "output_type": "stream",
     "text": [
      "Epoch 1/5\n"
     ]
    },
    {
     "name": "stderr",
     "output_type": "stream",
     "text": [
      "2024-11-08 11:16:29.171589: W external/local_xla/xla/tsl/framework/cpu_allocator_impl.cc:83] Allocation of 188160000 exceeds 10% of free system memory.\n"
     ]
    },
    {
     "name": "stdout",
     "output_type": "stream",
     "text": [
      "\u001b[1m1875/1875\u001b[0m \u001b[32m━━━━━━━━━━━━━━━━━━━━\u001b[0m\u001b[37m\u001b[0m \u001b[1m7s\u001b[0m 3ms/step - accuracy: 0.8201 - loss: 0.7113\n",
      "Epoch 2/5\n",
      "\u001b[1m1875/1875\u001b[0m \u001b[32m━━━━━━━━━━━━━━━━━━━━\u001b[0m\u001b[37m\u001b[0m \u001b[1m7s\u001b[0m 4ms/step - accuracy: 0.9119 - loss: 0.3113\n",
      "Epoch 3/5\n",
      "\u001b[1m1875/1875\u001b[0m \u001b[32m━━━━━━━━━━━━━━━━━━━━\u001b[0m\u001b[37m\u001b[0m \u001b[1m7s\u001b[0m 4ms/step - accuracy: 0.9195 - loss: 0.2868\n",
      "Epoch 4/5\n",
      "\u001b[1m1875/1875\u001b[0m \u001b[32m━━━━━━━━━━━━━━━━━━━━\u001b[0m\u001b[37m\u001b[0m \u001b[1m7s\u001b[0m 4ms/step - accuracy: 0.9228 - loss: 0.2719\n",
      "Epoch 5/5\n",
      "\u001b[1m1875/1875\u001b[0m \u001b[32m━━━━━━━━━━━━━━━━━━━━\u001b[0m\u001b[37m\u001b[0m \u001b[1m7s\u001b[0m 4ms/step - accuracy: 0.9263 - loss: 0.2647\n"
     ]
    },
    {
     "data": {
      "text/plain": [
       "<keras.src.callbacks.history.History at 0x78956b3a4b00>"
      ]
     },
     "execution_count": 24,
     "metadata": {},
     "output_type": "execute_result"
    }
   ],
   "source": [
    "model = keras.Sequential([\n",
    "    keras.layers.Dense(10,input_shape=(784,),activation = 'sigmoid')\n",
    "])\n",
    "\n",
    "model.compile(\n",
    "    optimizer='adam',\n",
    "    loss='sparse_categorical_crossentropy',\n",
    "    metrics=['accuracy']\n",
    ")\n",
    "\n",
    "model.fit(X_train_flat,Y_train,epochs=5)"
   ]
  },
  {
   "cell_type": "code",
   "execution_count": 27,
   "id": "70cdb13b-cc34-4e26-a087-28cfb5c50645",
   "metadata": {},
   "outputs": [
    {
     "name": "stdout",
     "output_type": "stream",
     "text": [
      "\u001b[1m313/313\u001b[0m \u001b[32m━━━━━━━━━━━━━━━━━━━━\u001b[0m\u001b[37m\u001b[0m \u001b[1m0s\u001b[0m 1ms/step - accuracy: 0.9137 - loss: 0.3044  \n"
     ]
    },
    {
     "data": {
      "text/plain": [
       "[0.2686546742916107, 0.9251000285148621]"
      ]
     },
     "execution_count": 27,
     "metadata": {},
     "output_type": "execute_result"
    }
   ],
   "source": [
    "model.evaluate(X_test_flat,Y_test)"
   ]
  },
  {
   "cell_type": "code",
   "execution_count": 35,
   "id": "8c014f66-40ad-4aa0-ab93-e7ffe79d8a0c",
   "metadata": {},
   "outputs": [
    {
     "data": {
      "text/plain": [
       "<matplotlib.image.AxesImage at 0x789569fa7c80>"
      ]
     },
     "execution_count": 35,
     "metadata": {},
     "output_type": "execute_result"
    },
    {
     "data": {
      "image/png": "[encoded data removed]",
      "text/plain": [
       "<Figure size 480x480 with 1 Axes>"
      ]
     },
     "metadata": {},
     "output_type": "display_data"
    }
   ],
   "source": [
    "plt.matshow(X_test[5])"
   ]
  },
  {
   "cell_type": "code",
   "execution_count": 32,
   "id": "2179d96e-5674-414c-ba7e-13dc22f6d0f7",
   "metadata": {},
   "outputs": [
    {
     "name": "stdout",
     "output_type": "stream",
     "text": [
      "\u001b[1m313/313\u001b[0m \u001b[32m━━━━━━━━━━━━━━━━━━━━\u001b[0m\u001b[37m\u001b[0m \u001b[1m1s\u001b[0m 2ms/step\n"
     ]
    }
   ],
   "source": [
    "y_pridicted = model.predict(X_test_flat)"
   ]
  },
  {
   "cell_type": "code",
   "execution_count": 33,
   "id": "532d1a1f-fa47-4253-b2b6-00cfbc3767b6",
   "metadata": {},
   "outputs": [
    {
     "data": {
      "text/plain": [
       "array([1.9227125e-02, 3.8942937e-07, 6.4516097e-02, 9.5856708e-01,\n",
       "       2.0171865e-03, 1.2375605e-01, 1.2670396e-06, 9.9984735e-01,\n",
       "       7.7031679e-02, 6.9602621e-01], dtype=float32)"
      ]
     },
     "execution_count": 33,
     "metadata": {},
     "output_type": "execute_result"
    }
   ],
   "source": [
    "y_pridicted[0]"
   ]
  },
  {
   "cell_type": "code",
   "execution_count": 36,
   "id": "95dcf10b-28d4-4a5a-8b0d-da41e18cf069",
   "metadata": {},
   "outputs": [
    {
     "data": {
      "text/plain": [
       "np.int64(1)"
      ]
     },
     "execution_count": 36,
     "metadata": {},
     "output_type": "execute_result"
    }
   ],
   "source": [
    "np.argmax(y_pridicted[5])"
   ]
  },
  {
   "cell_type": "code",
   "execution_count": null,
   "id": "b68c69e1-0fe1-46c3-8e01-d149ac1654de",
   "metadata": {},
   "outputs": [],
   "source": []
  }
 ],
 "metadata": {
  "kernelspec": {
   "display_name": "Python 3 (ipykernel)",
   "language": "python",
   "name": "python3"
  },
  "language_info": {
   "codemirror_mode": {
    "name": "ipython",
    "version": 3
   },
   "file_extension": ".py",
   "mimetype": "text/x-python",
   "name": "python",
   "nbconvert_exporter": "python",
   "pygments_lexer": "ipython3",
   "version": "3.12.3"
  }
 },
 "nbformat": 4,
 "nbformat_minor": 5
}
